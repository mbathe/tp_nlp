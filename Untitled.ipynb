{
 "cells": [
  {
   "cell_type": "code",
   "execution_count": 5,
   "id": "f8ea734f-c31a-4dc4-a360-f10a5528b245",
   "metadata": {},
   "outputs": [],
   "source": [
    "from tqdm import tqdm\n",
    "import glob\n",
    "import re\n",
    "from nltk.tokenize import WordPunctTokenizer\n",
    "from nltk.corpus import stopwords\n",
    "import numpy as np\n",
    "from sklearn.feature_extraction.text import TfidfVectorizer\n",
    "from nltk.tokenize import sent_tokenize\n",
    "from collections import defaultdict\n",
    "from nltk.tokenize import word_tokenize\n",
    "from concurrent.futures import ProcessPoolExecutor\n",
    "import spacy"
   ]
  },
  {
   "cell_type": "code",
   "execution_count": 16,
   "id": "f9a1f74b-d838-411b-baea-a23f494ffd39",
   "metadata": {},
   "outputs": [],
   "source": [
    "class Processing:\n",
    "    def __init__(self, log_file=None, corpus_dir=\"preprocessed\", corpus_file=\"corpus.txt\"):\n",
    "        self.log_file = log_file\n",
    "        self.corpus_dir = corpus_dir\n",
    "        self.tokens = set()\n",
    "        self.corpus = \"\"\n",
    "        self.corpus_file = corpus_file\n",
    "        self.tf_idf_dict = []\n",
    "        self.document_token = {}\n",
    "        self.number_of_tokens = 0\n",
    "        self.documents = []\n",
    "        self.vec = None\n",
    "\n",
    "    def process_corpus(self):\n",
    "        # Lire le corpus\n",
    "        with open(self.corpus_file, \"r\", encoding=\"utf-8\") as f:\n",
    "            corpus_text = f.read().strip().lower()\n",
    "\n",
    "        self.documents = sent_tokenize(corpus_text)\n",
    "        self.corpus = corpus_text\n",
    "        tk = WordPunctTokenizer()\n",
    "        stop_words = set(stopwords.words('english'))\n",
    "        document_count = len(self.documents)\n",
    "        token_doc_count = defaultdict(int)\n",
    "        nlp = spacy.load(\"en_core_web_sm\")\n",
    "        self.tf_idf_dict = [{} for i in range(len(self.documents))]\n",
    "        for i, full_content in enumerate(tqdm(self.documents)):\n",
    "            content = re.sub(\n",
    "                r'(#\\S+|@\\S+|\\S*@\\S*\\s?|http\\S+|word01|word02|word03|[^A-Za-z0-9]\\'\\'|\\d+|<[^>]*>|[^A-Za-z0-9\\'\\- ]+)',\n",
    "                \"\",\n",
    "                full_content\n",
    "            )\n",
    "\n",
    "            doc = nlp(content)\n",
    "            noun_verb_adj = []\n",
    "            target_pos = {\"VERB\", \"ADJ\", \"NUM\", \"ADP\", \"PROPN\",\n",
    "                          \"PRON\", \"PUNCT\", \"SCONJ\", \"SYM\", \"ADV\", \"SPACE\", \"AUX\", \"CONJ\", \"SYM\", \"PUNCT\", \"SCONJ\"}\n",
    "            target_tags = {\"VB\", \"JJ\", \"JJR\", \"JJS\", \"RB\", \"RBR\", \"RBS\",\n",
    "                           \"CD\", \"PRP\", \"PRP$\", \"DT\", \"IN\", \"CC\", \"UH\", \"SYM\", \".\"}\n",
    "            \"\"\"\n",
    "            for ent in doc:\n",
    "                if ent.pos_ in target_pos:\n",
    "                    noun_verb_adj.append(ent.text.lower())\n",
    "            \"\"\"\n",
    "            tokens = {token.lemma_ for token in doc if len(\n",
    "                token.text) > 3 and token.text not in stop_words and token.pos_ not in target_pos and token.tag_ not in target_tags}\n",
    "            self.tokens.update(tokens)\n",
    "            number_content_words = len(full_content.split())\n",
    "            for token in tokens:\n",
    "                token_doc_count[token] += 1\n",
    "                self.tf_idf_dict[i][token] = (full_content.count(\n",
    "                    token) / number_content_words if number_content_words > 1 else 0)\n",
    "\n",
    "        for i in tqdm(range(document_count)):\n",
    "            for token in self.tf_idf_dict[i]:\n",
    "                self.tf_idf_dict[i][token] *= np.log(\n",
    "                    document_count / (token_doc_count[token] + 1))\n",
    "                # self.vec[i, tokens_index[token]] += self.tf_idf_dict[i][token]\n",
    "\n",
    "    def get_key_words(self):\n",
    "        dictionnaire = dict(\n",
    "            zip(self.tokens, np.zeros(len(self.tokens))))\n",
    "        token_count_doc = zip(self.tokens, np.ones(len(self.tokens)))\n",
    "        for i in tqdm(range(len(self.tf_idf_dict))):\n",
    "            for k in self.tf_idf_dict[i].keys():\n",
    "                dictionnaire[k] += self.tf_idf_dict[i][k]\n",
    "                token_count_doc[k]+=1\n",
    "        for k in tqdm(list(token_count_doc.keys())):\n",
    "             dictionnaire[k] =  dictionnaire[k]/token_count_doc[k]\n",
    "        dictionnaire = dict(sorted(dictionnaire.items(),\n",
    "                                   key=lambda item: item[1], reverse=True))\n",
    "        return dictionnaire\n",
    "\n",
    "    def compare_tokens_found(self):\n",
    "        # Lire le corpus\n",
    "        with open(self.corpus_file, \"r\", encoding=\"utf-8\") as f:\n",
    "            corpus_text = f.read().strip().lower()\n",
    "\n",
    "        r = Rake()\n",
    "\n",
    "        # To get keyword phrases ranked highest to lowest.\n",
    "        corpus_text = re.sub(\n",
    "            r'(#\\S+|@\\S+|\\S*@\\S*\\s?|http\\S+|word01|word02|word03|[^A-Za-z0-9]\\'\\'|\\d+|<[^>]*>|[^A-Za-z0-9\\' ]+)',\n",
    "            \"\",\n",
    "            corpus_text\n",
    "        )\n",
    "        r.extract_keywords_from_text(corpus_text)\n",
    "        return r.get_ranked_phrases_with_scores()\n",
    "\n",
    "    def tfidf_filter(self):\n",
    "        vectorizer = TfidfVectorizer()\n",
    "        for i, d in enumerate(tqdm(self.documents)):\n",
    "            tokens = word_tokenize(d)\n",
    "            tokens = (' ').join([t.lower() for t in tokens\n",
    "                                 if len(t) >= 3\n",
    "                                 and (t.isalpha() or t in r\"!\\\"#$%&'()*+,-./:;<=>?@[\\]^_`{|}~\")\n",
    "                                 and t.lower() not in stopwords.words('english')\n",
    "                                 and \"http\" not in t.lower()\n",
    "                                 ])\n",
    "        X = vectorizer.fit_transform(tokens)\n",
    "        tfidf_values = np.array(X.mean(axis=0))[0]\n",
    "        median_tfidf = np.quantile(tfidf_values, 0.5)\n",
    "        mask = tfidf_values > median_tfidf\n",
    "        words_to_keep = vectorizer.get_feature_names_out()[mask]\n",
    "        # print(type(words_to_keep))\n",
    "        return words_to_keep\n"
   ]
  },
  {
   "cell_type": "code",
   "execution_count": 11,
   "id": "bbe80c73-611d-4f78-93ee-71b0fdebd4f2",
   "metadata": {},
   "outputs": [
    {
     "name": "stdout",
     "output_type": "stream",
     "text": [
      "Collecting en-core-web-sm==3.8.0\n",
      "  Downloading https://github.com/explosion/spacy-models/releases/download/en_core_web_sm-3.8.0/en_core_web_sm-3.8.0-py3-none-any.whl (12.8 MB)\n",
      "     ---------------------------------------- 0.0/12.8 MB ? eta -:--:--\n",
      "     ----------------- ---------------------- 5.5/12.8 MB 33.6 MB/s eta 0:00:01\n",
      "     --------------------------------------  12.6/12.8 MB 32.9 MB/s eta 0:00:01\n",
      "     --------------------------------------- 12.8/12.8 MB 29.7 MB/s eta 0:00:00\n",
      "Installing collected packages: en-core-web-sm\n",
      "Successfully installed en-core-web-sm-3.8.0\n",
      "\u001b[38;5;2m[+] Download and installation successful\u001b[0m\n",
      "You can now load the package via spacy.load('en_core_web_sm')\n"
     ]
    }
   ],
   "source": [
    "!python -m spacy download en_core_web_sm"
   ]
  },
  {
   "cell_type": "code",
   "execution_count": 17,
   "id": "e694617d-937e-416b-8197-f559b195af6a",
   "metadata": {},
   "outputs": [
    {
     "ename": "FileNotFoundError",
     "evalue": "[Errno 2] No such file or directory: 'corpus.txt'",
     "output_type": "error",
     "traceback": [
      "\u001b[1;31m---------------------------------------------------------------------------\u001b[0m",
      "\u001b[1;31mFileNotFoundError\u001b[0m                         Traceback (most recent call last)",
      "Cell \u001b[1;32mIn[17], line 3\u001b[0m\n\u001b[0;32m      1\u001b[0m preprocessing \u001b[38;5;241m=\u001b[39m Processing(\n\u001b[0;32m      2\u001b[0m log_file\u001b[38;5;241m=\u001b[39m\u001b[38;5;124m\"\u001b[39m\u001b[38;5;124m\"\u001b[39m, corpus_dir\u001b[38;5;241m=\u001b[39m\u001b[38;5;124m\"\u001b[39m\u001b[38;5;124mprocessed\u001b[39m\u001b[38;5;124m\"\u001b[39m, corpus_file\u001b[38;5;241m=\u001b[39m\u001b[38;5;124m\"\u001b[39m\u001b[38;5;124mcorpus.txt\u001b[39m\u001b[38;5;124m\"\u001b[39m)\n\u001b[1;32m----> 3\u001b[0m \u001b[43mpreprocessing\u001b[49m\u001b[38;5;241;43m.\u001b[39;49m\u001b[43mprocess_corpus\u001b[49m\u001b[43m(\u001b[49m\u001b[43m)\u001b[49m\n\u001b[0;32m      5\u001b[0m keys_words \u001b[38;5;241m=\u001b[39m preprocessing\u001b[38;5;241m.\u001b[39mget_key_words()\n\u001b[0;32m      6\u001b[0m \u001b[38;5;28;01mif\u001b[39;00m \u001b[38;5;124m\"\u001b[39m\u001b[38;5;124malso\u001b[39m\u001b[38;5;124m\"\u001b[39m \u001b[38;5;129;01min\u001b[39;00m \u001b[38;5;28mset\u001b[39m(stopwords\u001b[38;5;241m.\u001b[39mwords(\u001b[38;5;124m'\u001b[39m\u001b[38;5;124menglish\u001b[39m\u001b[38;5;124m'\u001b[39m)):\n",
      "Cell \u001b[1;32mIn[16], line 16\u001b[0m, in \u001b[0;36mProcessing.process_corpus\u001b[1;34m(self)\u001b[0m\n\u001b[0;32m     14\u001b[0m \u001b[38;5;28;01mdef\u001b[39;00m \u001b[38;5;21mprocess_corpus\u001b[39m(\u001b[38;5;28mself\u001b[39m):\n\u001b[0;32m     15\u001b[0m     \u001b[38;5;66;03m# Lire le corpus\u001b[39;00m\n\u001b[1;32m---> 16\u001b[0m     \u001b[38;5;28;01mwith\u001b[39;00m \u001b[38;5;28;43mopen\u001b[39;49m\u001b[43m(\u001b[49m\u001b[38;5;28;43mself\u001b[39;49m\u001b[38;5;241;43m.\u001b[39;49m\u001b[43mcorpus_file\u001b[49m\u001b[43m,\u001b[49m\u001b[43m \u001b[49m\u001b[38;5;124;43m\"\u001b[39;49m\u001b[38;5;124;43mr\u001b[39;49m\u001b[38;5;124;43m\"\u001b[39;49m\u001b[43m,\u001b[49m\u001b[43m \u001b[49m\u001b[43mencoding\u001b[49m\u001b[38;5;241;43m=\u001b[39;49m\u001b[38;5;124;43m\"\u001b[39;49m\u001b[38;5;124;43mutf-8\u001b[39;49m\u001b[38;5;124;43m\"\u001b[39;49m\u001b[43m)\u001b[49m \u001b[38;5;28;01mas\u001b[39;00m f:\n\u001b[0;32m     17\u001b[0m         corpus_text \u001b[38;5;241m=\u001b[39m f\u001b[38;5;241m.\u001b[39mread()\u001b[38;5;241m.\u001b[39mstrip()\u001b[38;5;241m.\u001b[39mlower()\n\u001b[0;32m     19\u001b[0m     \u001b[38;5;28mself\u001b[39m\u001b[38;5;241m.\u001b[39mdocuments \u001b[38;5;241m=\u001b[39m sent_tokenize(corpus_text)\n",
      "File \u001b[1;32m~\\AppData\\Local\\Programs\\Python\\Python311\\Lib\\site-packages\\IPython\\core\\interactiveshell.py:324\u001b[0m, in \u001b[0;36m_modified_open\u001b[1;34m(file, *args, **kwargs)\u001b[0m\n\u001b[0;32m    317\u001b[0m \u001b[38;5;28;01mif\u001b[39;00m file \u001b[38;5;129;01min\u001b[39;00m {\u001b[38;5;241m0\u001b[39m, \u001b[38;5;241m1\u001b[39m, \u001b[38;5;241m2\u001b[39m}:\n\u001b[0;32m    318\u001b[0m     \u001b[38;5;28;01mraise\u001b[39;00m \u001b[38;5;167;01mValueError\u001b[39;00m(\n\u001b[0;32m    319\u001b[0m         \u001b[38;5;124mf\u001b[39m\u001b[38;5;124m\"\u001b[39m\u001b[38;5;124mIPython won\u001b[39m\u001b[38;5;124m'\u001b[39m\u001b[38;5;124mt let you open fd=\u001b[39m\u001b[38;5;132;01m{\u001b[39;00mfile\u001b[38;5;132;01m}\u001b[39;00m\u001b[38;5;124m by default \u001b[39m\u001b[38;5;124m\"\u001b[39m\n\u001b[0;32m    320\u001b[0m         \u001b[38;5;124m\"\u001b[39m\u001b[38;5;124mas it is likely to crash IPython. If you know what you are doing, \u001b[39m\u001b[38;5;124m\"\u001b[39m\n\u001b[0;32m    321\u001b[0m         \u001b[38;5;124m\"\u001b[39m\u001b[38;5;124myou can use builtins\u001b[39m\u001b[38;5;124m'\u001b[39m\u001b[38;5;124m open.\u001b[39m\u001b[38;5;124m\"\u001b[39m\n\u001b[0;32m    322\u001b[0m     )\n\u001b[1;32m--> 324\u001b[0m \u001b[38;5;28;01mreturn\u001b[39;00m \u001b[43mio_open\u001b[49m\u001b[43m(\u001b[49m\u001b[43mfile\u001b[49m\u001b[43m,\u001b[49m\u001b[43m \u001b[49m\u001b[38;5;241;43m*\u001b[39;49m\u001b[43margs\u001b[49m\u001b[43m,\u001b[49m\u001b[43m \u001b[49m\u001b[38;5;241;43m*\u001b[39;49m\u001b[38;5;241;43m*\u001b[39;49m\u001b[43mkwargs\u001b[49m\u001b[43m)\u001b[49m\n",
      "\u001b[1;31mFileNotFoundError\u001b[0m: [Errno 2] No such file or directory: 'corpus.txt'"
     ]
    }
   ],
   "source": [
    "preprocessing = Processing(\n",
    "log_file=\"\", corpus_dir=\"processed\", corpus_file=\"corpus.txt\")\n",
    "preprocessing.process_corpus()\n",
    "\n",
    "keys_words = preprocessing.get_key_words()\n",
    "if \"also\" in set(stopwords.words('english')):\n",
    "    print(\"aloso\" in set(stopwords.words('english')))\n",
    "# print(len(list(keys_words.keys())))\n",
    "print(list(keys_words.keys())[0:40])\n"
   ]
  },
  {
   "cell_type": "code",
   "execution_count": 15,
   "id": "89937a7a-f459-4bea-b895-6487f29db042",
   "metadata": {},
   "outputs": [
    {
     "name": "stdout",
     "output_type": "stream",
     "text": [
      "system 2950.632441690472\n",
      "data 2165.4595208888486\n",
      "intelligence 2038.3984110036374\n",
      "right 1973.3538455389094\n",
      "decision 1578.9246841086167\n",
      "research 1564.7310221563682\n",
      "risk 1533.6798612161735\n",
      "information 1527.487334856244\n",
      "model 1477.6240036188656\n",
      "ethic 1431.0339169624265\n"
     ]
    }
   ],
   "source": [
    "\n",
    "for key in list(keys_words.keys())[:10]:\n",
    "    print(key,keys_words[key])"
   ]
  },
  {
   "cell_type": "code",
   "execution_count": null,
   "id": "bd0e800a-ede8-4cd0-b04a-ed39f1774edd",
   "metadata": {},
   "outputs": [],
   "source": []
  }
 ],
 "metadata": {
  "kernelspec": {
   "display_name": "Python 3 (ipykernel)",
   "language": "python",
   "name": "python3"
  },
  "language_info": {
   "codemirror_mode": {
    "name": "ipython",
    "version": 3
   },
   "file_extension": ".py",
   "mimetype": "text/x-python",
   "name": "python",
   "nbconvert_exporter": "python",
   "pygments_lexer": "ipython3",
   "version": "3.11.5"
  }
 },
 "nbformat": 4,
 "nbformat_minor": 5
}
