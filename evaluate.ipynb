{
 "cells": [
  {
   "cell_type": "code",
   "execution_count": 13,
   "metadata": {},
   "outputs": [
    {
     "data": {
      "text/plain": [
       "True"
      ]
     },
     "execution_count": 13,
     "metadata": {},
     "output_type": "execute_result"
    }
   ],
   "source": [
    "from src.code.tools.metrics import calculate_metrics\n",
    "import os\n",
    "from src.code.TFIDF.pre_processing import Processing\n",
    "from nltk.corpus import stopwords\n",
    "from dotenv import load_dotenv\n",
    "from src.code.graphe.build_graph import Graphe\n",
    "from tqdm import tqdm\n",
    "import glob\n",
    "from nltk.tokenize import sent_tokenize\n",
    "from src.code.bert.bert import Bert\n",
    "load_dotenv()"
   ]
  },
  {
   "cell_type": "code",
   "execution_count": 15,
   "metadata": {},
   "outputs": [
    {
     "name": "stderr",
     "output_type": "stream",
     "text": [
      "100%|██████████| 784/784 [00:23<00:00, 33.35it/s]\n",
      "100%|██████████| 784/784 [00:04<00:00, 189.43it/s]\n",
      "100%|██████████| 784/784 [00:00<00:00, 188292.16it/s]\n",
      "100%|██████████| 784/784 [00:00<00:00, 425950.04it/s]\n",
      "100%|██████████| 784/784 [00:00<00:00, 650125.41it/s]\n",
      "100%|██████████| 104/104 [00:03<00:00, 31.99it/s]\n",
      "100%|██████████| 104/104 [00:00<00:00, 234.67it/s]\n",
      "100%|██████████| 104/104 [00:00<00:00, 203645.01it/s]\n",
      "100%|██████████| 104/104 [00:00<00:00, 625835.89it/s]\n",
      "100%|██████████| 104/104 [00:00<00:00, 801852.24it/s]\n",
      "100%|██████████| 91/91 [00:03<00:00, 25.63it/s]\n",
      "100%|██████████| 91/91 [00:00<00:00, 167.39it/s]\n",
      "100%|██████████| 91/91 [00:00<00:00, 135108.55it/s]\n",
      "100%|██████████| 91/91 [00:00<00:00, 459304.05it/s]\n",
      "100%|██████████| 91/91 [00:00<00:00, 454924.51it/s]\n",
      "100%|██████████| 20/20 [00:00<00:00, 29.05it/s]\n",
      "100%|██████████| 20/20 [00:00<00:00, 188.25it/s]\n",
      "100%|██████████| 20/20 [00:00<00:00, 83137.84it/s]\n",
      "100%|██████████| 20/20 [00:00<00:00, 274137.52it/s]\n",
      "100%|██████████| 20/20 [00:00<00:00, 355449.49it/s]\n",
      "100%|██████████| 2152/2152 [01:05<00:00, 33.09it/s]\n",
      "100%|██████████| 2152/2152 [00:09<00:00, 237.16it/s]\n",
      "100%|██████████| 2152/2152 [00:00<00:00, 183238.44it/s]\n",
      "100%|██████████| 2152/2152 [00:00<00:00, 590522.88it/s]\n",
      "100%|██████████| 2152/2152 [00:00<00:00, 530887.08it/s]\n",
      "100%|██████████| 883/883 [00:25<00:00, 34.72it/s]\n",
      "100%|██████████| 883/883 [00:03<00:00, 270.96it/s]\n",
      "100%|██████████| 883/883 [00:00<00:00, 204538.05it/s]\n",
      "100%|██████████| 883/883 [00:00<00:00, 771737.95it/s]\n",
      "100%|██████████| 883/883 [00:00<00:00, 754598.70it/s]\n",
      "100%|██████████| 25/25 [00:00<00:00, 34.50it/s]\n",
      "100%|██████████| 25/25 [00:00<00:00, 359.58it/s]\n",
      "100%|██████████| 25/25 [00:00<00:00, 263461.31it/s]\n",
      "100%|██████████| 25/25 [00:00<00:00, 524288.00it/s]\n",
      "100%|██████████| 25/25 [00:00<00:00, 667882.80it/s]\n",
      "100%|██████████| 340/340 [00:11<00:00, 30.56it/s]\n",
      "100%|██████████| 340/340 [00:01<00:00, 217.99it/s]\n",
      "100%|██████████| 340/340 [00:00<00:00, 156572.61it/s]\n",
      "100%|██████████| 340/340 [00:00<00:00, 508400.48it/s]\n",
      "100%|██████████| 340/340 [00:00<00:00, 902571.75it/s]\n",
      "100%|██████████| 41/41 [00:01<00:00, 32.60it/s]\n",
      "100%|██████████| 41/41 [00:00<00:00, 210.28it/s]\n",
      "100%|██████████| 41/41 [00:00<00:00, 162847.03it/s]\n",
      "100%|██████████| 41/41 [00:00<00:00, 259768.07it/s]\n",
      "100%|██████████| 41/41 [00:00<00:00, 634562.60it/s]\n",
      "100%|██████████| 9/9 [02:43<00:00, 18.13s/it]"
     ]
    },
    {
     "name": "stdout",
     "output_type": "stream",
     "text": [
      "{'Précision': 0.3444444444444444, 'Rappel': 0.3444444444444444, 'F-mesure': 0.34444444444444444, 'Spécificité': 0.0, 'Taux de faux positifs': 0}\n"
     ]
    },
    {
     "name": "stderr",
     "output_type": "stream",
     "text": [
      "\n"
     ]
    }
   ],
   "source": [
    "metricis = {'Précision': 0,\n",
    "            'Rappel': 0,\n",
    "            'F-mesure': 0,\n",
    "            'Spécificité': 0,\n",
    "            'Taux de faux positifs': 0}\n",
    "documents_count = 0\n",
    "for file in tqdm(glob.glob(os.path.join(os.getenv('TXT_FOLDER2'), \"*.txt\"))[1:10]):\n",
    "    with open(file, \"r\", encoding=\"utf-8\") as f:\n",
    "        doc = f.read().strip().lower()\n",
    "        if len(doc) > 10:\n",
    "            documents_count += 1\n",
    "            documents = sent_tokenize(doc)\n",
    "            bert = Bert(documents=documents)\n",
    "            bert.processing()\n",
    "            top_indices, summary = bert.get_resume(top_n=10)\n",
    "            preprocessing = Processing(\n",
    "                log_file=\"\", corpus_dir=\"processed\", documents=documents)\n",
    "            preprocessing.process_corpus()\n",
    "            resume_indeces, resume_docs = preprocessing.get_resume_docs(\n",
    "                top_n=10, number_key_words=30)\n",
    "            metricis_calcul = calculate_metrics(top_indices, resume_indeces)\n",
    "            metricis['Précision'] += metricis_calcul['Précision']\n",
    "            metricis['Rappel'] += metricis_calcul['Rappel']\n",
    "            metricis['F-mesure'] += metricis_calcul['F-mesure']\n",
    "            metricis['Spécificité'] += metricis_calcul['Spécificité']\n",
    "metricis['Précision'] /= documents_count\n",
    "metricis['Rappel'] /= documents_count\n",
    "metricis['F-mesure'] /= documents_count\n",
    "metricis['Spécificité'] /= documents_count\n",
    "print(metricis)"
   ]
  },
  {
   "cell_type": "code",
   "execution_count": 12,
   "metadata": {},
   "outputs": [
    {
     "data": {
      "text/plain": [
       "{'Précision': 0.5,\n",
       " 'Rappel': 0.5,\n",
       " 'F-mesure': 0.5,\n",
       " 'Spécificité': 0.0,\n",
       " 'Taux de faux positifs': 1.0}"
      ]
     },
     "execution_count": 12,
     "metadata": {},
     "output_type": "execute_result"
    }
   ],
   "source": [
    "\n",
    "calculate_metrics(top_indices, resume_indeces)"
   ]
  },
  {
   "cell_type": "code",
   "execution_count": null,
   "metadata": {},
   "outputs": [],
   "source": []
  }
 ],
 "metadata": {
  "kernelspec": {
   "display_name": "tp-nlp-R8Mk3SIc-py3.12",
   "language": "python",
   "name": "python3"
  },
  "language_info": {
   "codemirror_mode": {
    "name": "ipython",
    "version": 3
   },
   "file_extension": ".py",
   "mimetype": "text/x-python",
   "name": "python",
   "nbconvert_exporter": "python",
   "pygments_lexer": "ipython3",
   "version": "3.12.3"
  }
 },
 "nbformat": 4,
 "nbformat_minor": 2
}
